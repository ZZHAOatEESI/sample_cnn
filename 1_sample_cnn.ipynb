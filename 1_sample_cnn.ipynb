{
 "cells": [
  {
   "cell_type": "code",
   "execution_count": 1,
   "metadata": {},
   "outputs": [
    {
     "name": "stderr",
     "output_type": "stream",
     "text": [
      "Using TensorFlow backend.\n"
     ]
    }
   ],
   "source": [
    "from __future__ import print_function\n",
    "\n",
    "from keras import layers\n",
    "import keras\n",
    "from keras.models import Model\n",
    "from keras.layers import Input, Dense, Dropout, Activation, Flatten, BatchNormalization\n",
    "from keras.layers import Conv2D, MaxPooling2D\n",
    "\n",
    "import numpy as np\n",
    "import random"
   ]
  },
  {
   "cell_type": "code",
   "execution_count": 3,
   "metadata": {},
   "outputs": [],
   "source": [
    "from sklearn.externals import joblib\n",
    "partition = joblib.load('partition_sample_cnn.pkl')"
   ]
  },
  {
   "cell_type": "code",
   "execution_count": 4,
   "metadata": {},
   "outputs": [],
   "source": [
    "np.random.seed(3)\n",
    "label_idx = {'feces': 0 , 'tongue': 1, 'skin': 2}\n",
    "class DataGenerator(keras.utils.Sequence):\n",
    "    'Generates data for Keras'\n",
    "    def __init__(self, list_IDs, label_idx, batch_size=32, dim=(5000,125,4),\n",
    "                 n_classes=3, shuffle=True):\n",
    "        'Initialization'\n",
    "        self.dim = dim\n",
    "        self.batch_size = batch_size\n",
    "        self.labels = label_idx\n",
    "        self.list_IDs = list_IDs\n",
    "        self.n_classes = n_classes\n",
    "        self.shuffle = shuffle\n",
    "        self.on_epoch_end()\n",
    "\n",
    "    def __len__(self):\n",
    "        'Denotes the number of batches per epoch'\n",
    "        return int(np.floor(len(self.list_IDs) / self.batch_size))\n",
    "\n",
    "    def __getitem__(self, index):\n",
    "        'Generate one batch of data'\n",
    "        # Generate indexes of the batch\n",
    "        indexes = self.indexes[index*self.batch_size:(index+1)*self.batch_size]\n",
    "\n",
    "        # Find list of IDs\n",
    "        list_IDs_temp = [self.list_IDs[k] for k in indexes]\n",
    "\n",
    "        # Generate data\n",
    "        X, y = self.__data_generation(list_IDs_temp)\n",
    "\n",
    "        return X, y\n",
    "\n",
    "    def on_epoch_end(self):\n",
    "        'Updates indexes after each epoch'\n",
    "        self.indexes = np.arange(len(self.list_IDs))\n",
    "        if self.shuffle == True:\n",
    "            np.random.shuffle(self.indexes)\n",
    "\n",
    "    def __data_generation(self, list_IDs_temp):\n",
    "        'Generates data containing batch_size samples' # X : (n_samples, *dim)\n",
    "        # Initialization\n",
    "        X = np.empty((self.batch_size, *self.dim))\n",
    "        y = np.empty((self.batch_size) , dtype=int)\n",
    "\n",
    "        # Generate data\n",
    "        for i, ID in enumerate(list_IDs_temp):\n",
    "            # Store sample\n",
    "            x_tmp = joblib.load(ID)\n",
    "            label_tmp = ID.split('_')[1].split('.')[0]\n",
    "            idx = np.random.randint(x_tmp.shape[0], size=5000)\n",
    "            X[i,] = x_tmp[idx,:,:]\n",
    "\n",
    "            # Store class\n",
    "            y[i] = self.labels[label_tmp]\n",
    "\n",
    "        return X, keras.utils.to_categorical(y, num_classes=self.n_classes)"
   ]
  },
  {
   "cell_type": "code",
   "execution_count": 5,
   "metadata": {},
   "outputs": [],
   "source": [
    "params = {'batch_size': 64,\n",
    "          'n_classes': 3,\n",
    "          'shuffle': True}\n",
    "\n",
    "# Datasets\n",
    "\n",
    "# Generators\n",
    "training_generator = DataGenerator(partition['train'], label_idx, **params)\n",
    "testing_generator = DataGenerator(partition['test'], label_idx, **params)"
   ]
  },
  {
   "cell_type": "code",
   "execution_count": 6,
   "metadata": {},
   "outputs": [],
   "source": [
    "def cnn_model(input_shape):\n",
    "    X_input = Input(input_shape)\n",
    "    X = Conv2D(4, (1,6), strides = (1, 1), name = 'conv0', data_format = 'channels_last')(X_input)\n",
    "    X = BatchNormalization(axis = -1, name = 'bn0')(X)\n",
    "    X = Activation('relu')(X)\n",
    "    \n",
    "    X = MaxPooling2D((1,4), name='max_pool_0', data_format = 'channels_last')(X)\n",
    "    \n",
    "    X = Conv2D(16, (1,11), strides = (1, 1), name = 'conv1', data_format = 'channels_last')(X)\n",
    "    X = BatchNormalization(axis = -1, name = 'bn1')(X)\n",
    "    X = Activation('relu')(X)\n",
    "    \n",
    "    X = MaxPooling2D((1,2), name='max_pool_1', data_format = 'channels_last')(X)\n",
    "    \n",
    "    X = Conv2D(1, (1,10), strides = (1, 1), name = 'conv2', data_format = 'channels_last')(X)\n",
    "    X = BatchNormalization(axis = -1, name = 'bn2')(X)\n",
    "    X = Activation('relu')(X)\n",
    "    \n",
    "    X = Flatten()(X)\n",
    "    \n",
    "    X = Dense(3, activation='softmax', name='fc1')(X)\n",
    "    \n",
    "    model = Model(inputs = X_input, output = X, name = 'DeepDNA')\n",
    "    \n",
    "    return model"
   ]
  },
  {
   "cell_type": "code",
   "execution_count": 7,
   "metadata": {},
   "outputs": [
    {
     "name": "stdout",
     "output_type": "stream",
     "text": [
      "_________________________________________________________________\n",
      "Layer (type)                 Output Shape              Param #   \n",
      "=================================================================\n",
      "input_1 (InputLayer)         (None, 5000, 125, 4)      0         \n",
      "_________________________________________________________________\n",
      "conv0 (Conv2D)               (None, 5000, 120, 4)      100       \n",
      "_________________________________________________________________\n",
      "bn0 (BatchNormalization)     (None, 5000, 120, 4)      16        \n",
      "_________________________________________________________________\n",
      "activation_1 (Activation)    (None, 5000, 120, 4)      0         \n",
      "_________________________________________________________________\n",
      "max_pool_0 (MaxPooling2D)    (None, 5000, 30, 4)       0         \n",
      "_________________________________________________________________\n",
      "conv1 (Conv2D)               (None, 5000, 20, 16)      720       \n",
      "_________________________________________________________________\n",
      "bn1 (BatchNormalization)     (None, 5000, 20, 16)      64        \n",
      "_________________________________________________________________\n",
      "activation_2 (Activation)    (None, 5000, 20, 16)      0         \n",
      "_________________________________________________________________\n",
      "max_pool_1 (MaxPooling2D)    (None, 5000, 10, 16)      0         \n",
      "_________________________________________________________________\n",
      "conv2 (Conv2D)               (None, 5000, 1, 1)        161       \n",
      "_________________________________________________________________\n",
      "bn2 (BatchNormalization)     (None, 5000, 1, 1)        4         \n",
      "_________________________________________________________________\n",
      "activation_3 (Activation)    (None, 5000, 1, 1)        0         \n",
      "_________________________________________________________________\n",
      "flatten_1 (Flatten)          (None, 5000)              0         \n",
      "_________________________________________________________________\n",
      "fc1 (Dense)                  (None, 3)                 15003     \n",
      "=================================================================\n",
      "Total params: 16,068\n",
      "Trainable params: 16,026\n",
      "Non-trainable params: 42\n",
      "_________________________________________________________________\n"
     ]
    },
    {
     "name": "stderr",
     "output_type": "stream",
     "text": [
      "/data/zzhao/anaconda3/lib/python3.5/site-packages/ipykernel/__main__.py:23: UserWarning: Update your `Model` call to the Keras 2 API: `Model(inputs=Tensor(\"in..., outputs=Tensor(\"fc..., name=\"DeepDNA\")`\n"
     ]
    }
   ],
   "source": [
    "model = cnn_model((5000,125,4))\n",
    "model.summary()"
   ]
  },
  {
   "cell_type": "code",
   "execution_count": 8,
   "metadata": {},
   "outputs": [],
   "source": [
    "model.compile('adam', 'categorical_crossentropy', metrics=['accuracy'])"
   ]
  },
  {
   "cell_type": "code",
   "execution_count": 9,
   "metadata": {},
   "outputs": [
    {
     "name": "stdout",
     "output_type": "stream",
     "text": [
      "Epoch 1/1\n",
      "1/1 [==============================] - 145s 145s/step - loss: 1.4023 - acc: 0.3594\n"
     ]
    }
   ],
   "source": [
    "# Train model on dataset\n",
    "model.fit_generator(generator=testing_generator,epochs=1)\n",
    "# model.fit_generator(generator=training_generator,epochs=1)\n",
    "model.save('sample_cnn_model.pkl')"
   ]
  },
  {
   "cell_type": "code",
   "execution_count": 10,
   "metadata": {},
   "outputs": [
    {
     "name": "stdout",
     "output_type": "stream",
     "text": [
      "[2.1336245536804199, 0.515625]\n"
     ]
    }
   ],
   "source": [
    "acc = model.evaluate_generator(generator=testing_generator)\n",
    "print(acc)"
   ]
  },
  {
   "cell_type": "code",
   "execution_count": null,
   "metadata": {},
   "outputs": [],
   "source": []
  }
 ],
 "metadata": {
  "anaconda-cloud": {},
  "kernelspec": {
   "display_name": "Python [default]",
   "language": "python",
   "name": "python3"
  },
  "language_info": {
   "codemirror_mode": {
    "name": "ipython",
    "version": 3
   },
   "file_extension": ".py",
   "mimetype": "text/x-python",
   "name": "python",
   "nbconvert_exporter": "python",
   "pygments_lexer": "ipython3",
   "version": "3.5.4"
  }
 },
 "nbformat": 4,
 "nbformat_minor": 2
}
